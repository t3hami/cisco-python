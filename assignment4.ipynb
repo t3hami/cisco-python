{
 "cells": [
  {
   "cell_type": "markdown",
   "metadata": {},
   "source": [
    "# Assignment # 4\n",
    "\n",
    "## Question 1:\n",
    "Use a dictionary to store information about a person you know. Store their first name, last name, age, and the city in which they live. You should have keys such as first_name, last_name, age, and city. Print each piece of information stored in your dictionary. Add a new key value pair about qualification then update the qualification value to high academic level then delete it."
   ]
  },
  {
   "cell_type": "code",
   "execution_count": 1,
   "metadata": {},
   "outputs": [
    {
     "name": "stdout",
     "output_type": "stream",
     "text": [
      "Dictionary in start:\n",
      "\tfirst_name: Muhammad\n",
      "\tlast_name: Tehami\n",
      "\tage: 23\n",
      "\tcity: Karachi\n",
      "\n",
      "After adding qualification key:\n",
      "\tfirst_name: Muhammad\n",
      "\tlast_name: Tehami\n",
      "\tage: 23\n",
      "\tcity: Karachi\n",
      "\tqualification: Intermediate in Pre-Engineering\n",
      "\n",
      "After updating qualification to higher academic level:\n",
      "\tfirst_name: Muhammad\n",
      "\tlast_name: Tehami\n",
      "\tage: 23\n",
      "\tcity: Karachi\n",
      "\tqualification: Bachelors in Science\n",
      "\n",
      "After deleting qualification key:\n",
      "\tfirst_name: Muhammad\n",
      "\tlast_name: Tehami\n",
      "\tage: 23\n",
      "\tcity: Karachi\n"
     ]
    }
   ],
   "source": [
    "def print_dict(dictionary):\n",
    "    for key, value in dictionary.items():\n",
    "        print(f\"\\t{key}: {value}\")\n",
    "person = {\n",
    "    \"first_name\": \"Muhammad\",\n",
    "    \"last_name\": \"Tehami\",\n",
    "    \"age\": 23,\n",
    "    \"city\": \"Karachi\"\n",
    "}\n",
    "print(\"Dictionary in start:\")\n",
    "print_dict(person)\n",
    "person[\"qualification\"] = \"Intermediate in Pre-Engineering\"\n",
    "print(\"\\nAfter adding qualification key:\")\n",
    "print_dict(person)\n",
    "person[\"qualification\"] = \"Bachelors in Science\"\n",
    "print(\"\\nAfter updating qualification to higher academic level:\")\n",
    "print_dict(person)\n",
    "del person[\"qualification\"]\n",
    "print(\"\\nAfter deleting qualification key:\")\n",
    "print_dict(person)"
   ]
  },
  {
   "cell_type": "markdown",
   "metadata": {},
   "source": [
    "# Question 2:\n",
    "Make a dictionary called cities. Use the names of three cities as keys in your dictionary. Create a dictionary of information about each city and include the country that the city is in, its approximate population, and one fact about that city. The keys for each city’s dictionary should be something like country, population, and fact. Print the name of each city and all of the information you have stored about it."
   ]
  },
  {
   "cell_type": "code",
   "execution_count": 2,
   "metadata": {},
   "outputs": [
    {
     "name": "stdout",
     "output_type": "stream",
     "text": [
      "KARACHI:\n",
      "\tCountry: Pakistan\n",
      "\tPopulation: 14910000\n",
      "\tFact: It is the Sixth largest city in the world by city population.\n",
      "NEW YORK:\n",
      "\tCountry: United States\n",
      "\tPopulation: 8623000\n",
      "\tFact: The first American chess tournament was held in New York in 1843.\n",
      "ISTANBUL:\n",
      "\tCountry: Turkey\n",
      "\tPopulation: 15070000\n",
      "\tFact: Istanbul is the only city in the world which is both in Europe and Asia geographicaly.\n"
     ]
    }
   ],
   "source": [
    "cities = {\n",
    "    \"Karachi\": {\n",
    "        \"Country\": \"Pakistan\",\n",
    "        \"Population\": 14910000,\n",
    "        \"Fact\": \"It is the Sixth largest city in the world by city population.\"\n",
    "    },\n",
    "    \"New York\": {\n",
    "        \"Country\": \"United States\",\n",
    "        \"Population\": 8623000,\n",
    "        \"Fact\": \"The first American chess tournament was held in New York in 1843.\"\n",
    "    },\n",
    "    \"Istanbul\": {\n",
    "        \"Country\": \"Turkey\",\n",
    "        \"Population\": 15070000,\n",
    "        \"Fact\": \"Istanbul is the only city in the world which is both in Europe and Asia geographicaly.\"\n",
    "    }\n",
    "}\n",
    "for city, info in cities.items():\n",
    "    print(city.upper()+\":\")\n",
    "    for key, value in info.items():\n",
    "        print(f\"\\t{key}: {value}\")"
   ]
  },
  {
   "cell_type": "markdown",
   "metadata": {},
   "source": [
    "## Question 3:\n",
    "<p>A movie theater charges different ticket prices depending on a person’s age. If a person is under the age of 3, the ticket is free if they are between 3 and 12, the ticket is \\$10 and if they are over age 12, the ticket is \\$15. Write a loop in which you ask users their age, and then tell them the cost of their movie ticket.</p>"
   ]
  },
  {
   "cell_type": "code",
   "execution_count": 3,
   "metadata": {},
   "outputs": [
    {
     "name": "stdin",
     "output_type": "stream",
     "text": [
      "Enter your age:  2\n"
     ]
    },
    {
     "name": "stdout",
     "output_type": "stream",
     "text": [
      "The ticket is free.\n"
     ]
    },
    {
     "name": "stdin",
     "output_type": "stream",
     "text": [
      "Do you want to check one more? (y/n)\n",
      " y\n",
      "Enter your age:  5\n"
     ]
    },
    {
     "name": "stdout",
     "output_type": "stream",
     "text": [
      "The ticket is $10.\n"
     ]
    },
    {
     "name": "stdin",
     "output_type": "stream",
     "text": [
      "Do you want to check one more? (y/n)\n",
      " y\n",
      "Enter your age:  16\n"
     ]
    },
    {
     "name": "stdout",
     "output_type": "stream",
     "text": [
      "The ticket is $15.\n"
     ]
    },
    {
     "name": "stdin",
     "output_type": "stream",
     "text": [
      "Do you want to check one more? (y/n)\n",
      " n\n"
     ]
    }
   ],
   "source": [
    "while True:\n",
    "    age = int(input(\"Enter your age: \"))\n",
    "    if age < 3:\n",
    "        print(\"The ticket is free.\")\n",
    "    elif age >=3 and age <= 12:\n",
    "        print(\"The ticket is $10.\")\n",
    "    elif age > 12:\n",
    "        print(\"The ticket is $15.\")\n",
    "    ans = input(\"Do you want to check one more? (y/n)\\n\")\n",
    "    if ans in [\"Y\", \"y\"]:\n",
    "        continue\n",
    "    break"
   ]
  },
  {
   "cell_type": "markdown",
   "metadata": {},
   "source": [
    "## Question 4:\n",
    "Write a function called favorite_book() that accepts one parameter, title. The function should print a message, such as One of my favorite books is Alice in Wonderland. Call the function, making sure to include a book title as an argument in the function call."
   ]
  },
  {
   "cell_type": "code",
   "execution_count": 4,
   "metadata": {},
   "outputs": [
    {
     "name": "stdout",
     "output_type": "stream",
     "text": [
      "One of my favorite books is Alice in Wonderland.\n"
     ]
    }
   ],
   "source": [
    "def favorite_book(book_title):\n",
    "    print(f\"One of my favorite books is {book_title}.\")\n",
    "\n",
    "favorite_book(\"Alice in Wonderland\")"
   ]
  },
  {
   "cell_type": "markdown",
   "metadata": {},
   "source": [
    "## Question 5:\n",
    "Guess the number game<br>\n",
    "Write a program which randomly generate a number between 1 to 30 and ask the user in input field to guess the correct number. Give three chances to user guess the number and also give hint to user if hidden number is greater or smaller than the number he given to input field."
   ]
  },
  {
   "cell_type": "code",
   "execution_count": 5,
   "metadata": {},
   "outputs": [
    {
     "name": "stdin",
     "output_type": "stream",
     "text": [
      "Enter your guess:  17\n"
     ]
    },
    {
     "name": "stdout",
     "output_type": "stream",
     "text": [
      "Wrong! Hint: The number is greater than the number you gave.\n"
     ]
    },
    {
     "name": "stdin",
     "output_type": "stream",
     "text": [
      "Enter your guess:  26\n"
     ]
    },
    {
     "name": "stdout",
     "output_type": "stream",
     "text": [
      "Wrong! Hint: The number is smaller than the number you gave.\n"
     ]
    },
    {
     "name": "stdin",
     "output_type": "stream",
     "text": [
      "Enter your guess:  22\n"
     ]
    },
    {
     "name": "stdout",
     "output_type": "stream",
     "text": [
      "Wrong! Hint: The number is smaller than the number you gave.\n",
      "Sorry you lost. The number was 18.\n"
     ]
    }
   ],
   "source": [
    "from random import randint\n",
    "\n",
    "number = randint(1, 30)\n",
    "win = False\n",
    "for i in range(3):\n",
    "    guess = int(input(\"Enter your guess: \"))\n",
    "    if guess == number:\n",
    "        win = True\n",
    "        print(f\"Your guess is correct. The number was {number}.\")\n",
    "        break\n",
    "    elif guess > number:\n",
    "        print(\"Wrong! Hint: The number is smaller than the number you gave.\")\n",
    "    elif guess < number:\n",
    "        print(\"Wrong! Hint: The number is greater than the number you gave.\")\n",
    "if not win:\n",
    "    print(f\"Sorry you lost. The number was {number}.\")"
   ]
  }
 ],
 "metadata": {
  "kernelspec": {
   "display_name": "Python 3",
   "language": "python",
   "name": "python3"
  },
  "language_info": {
   "codemirror_mode": {
    "name": "ipython",
    "version": 3
   },
   "file_extension": ".py",
   "mimetype": "text/x-python",
   "name": "python",
   "nbconvert_exporter": "python",
   "pygments_lexer": "ipython3",
   "version": "3.6.2"
  }
 },
 "nbformat": 4,
 "nbformat_minor": 4
}
