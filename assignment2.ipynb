{
 "cells": [
  {
   "cell_type": "markdown",
   "metadata": {},
   "source": [
    "# Assignment 2\n",
    "<br>\n",
    "\n",
    "## Question 1:\n",
    "Write a program which takes 5 inputs from user for different subject’s marks, total it and generate mark sheet using grades?"
   ]
  },
  {
   "cell_type": "code",
   "execution_count": 6,
   "metadata": {},
   "outputs": [
    {
     "name": "stdout",
     "output_type": "stream",
     "text": [
      "Enter marks of English: 78\n",
      "Enter marks of Maths: 89\n",
      "Enter marks of Physics: 66\n",
      "Enter marks of Urdu: 57\n",
      "Enter marks of PST: 55\n",
      "\n",
      "Subject\t\tMarks\tGrade\n",
      "---------------------------------------------------\n",
      "English\t\t78\tA\n",
      "Maths\t\t89\tA-1\n",
      "Physics\t\t66\tB\n",
      "Urdu\t\t57\tC\n",
      "PST\t\t55\tC\n",
      "---------------------------------------------------\n",
      "Total\t\t345\tB\tPercentage: 69.0%\n"
     ]
    }
   ],
   "source": [
    "def grade(marks):\n",
    "    if marks >= 80:\n",
    "        return 'A-1'\n",
    "    elif marks >= 70:\n",
    "        return 'A'\n",
    "    elif marks >= 60:\n",
    "        return 'B'\n",
    "    elif marks >= 50:\n",
    "        return 'C'\n",
    "    elif marks >= 40:\n",
    "        return 'D'\n",
    "    elif marks >= 33:\n",
    "        return 'E'\n",
    "    else:\n",
    "        return 'F'\n",
    "\n",
    "subjects = {\n",
    "    \"English\": None,\n",
    "    \"Maths\": None,\n",
    "    \"Physics\": None,\n",
    "    \"Urdu\": None,\n",
    "    \"PST\": None\n",
    "}\n",
    "\n",
    "for subject in subjects.keys():\n",
    "    subjects[subject] = int(input('Enter marks of {subject}: '.format(subject=subject)))\n",
    "\n",
    "total = sum(subjects.values())\n",
    "percentage = round((total / 500) * 100, 2)\n",
    "\n",
    "print('\\nSubject\\t\\tMarks\\tGrade')\n",
    "print('---------------------------------------------------')\n",
    "\n",
    "for subject in subjects.keys():\n",
    "    print('{subject}\\t\\t{marks}\\t{grade}'.format(\n",
    "        subject=subject, marks=subjects[subject], grade=grade(subjects[subject])\n",
    "    ))\n",
    "\n",
    "print('---------------------------------------------------')\n",
    "print('Total\\t\\t{total}\\t{grade}\\tPercentage: {percentage}%'.format(\n",
    "    total=total, grade=grade(percentage), percentage=percentage\n",
    "))"
   ]
  },
  {
   "cell_type": "markdown",
   "metadata": {},
   "source": [
    "## Question 2:\n",
    "Write a program which take input from user and identify that the given number is even or odd?"
   ]
  },
  {
   "cell_type": "code",
   "execution_count": 8,
   "metadata": {},
   "outputs": [
    {
     "name": "stdout",
     "output_type": "stream",
     "text": [
      "Enter number to check: 7\n",
      "The given number is Odd.\n"
     ]
    }
   ],
   "source": [
    "number = int(input('Enter number to check: '))\n",
    "ans = 'Even' if number % 2 == 0 else 'Odd'\n",
    "print('The given number is {}.'.format(ans))"
   ]
  },
  {
   "cell_type": "markdown",
   "metadata": {},
   "source": [
    "## Question 3:\n",
    "Write a program which print the length of the list?"
   ]
  },
  {
   "cell_type": "code",
   "execution_count": 9,
   "metadata": {},
   "outputs": [
    {
     "name": "stdout",
     "output_type": "stream",
     "text": [
      "Length of list numbers is 8.\n"
     ]
    }
   ],
   "source": [
    "numbers = [67, 56, 23, 88, 99, 0, -1, 4]\n",
    "print('Length of list numbers is {}.'.format(len(numbers)))"
   ]
  },
  {
   "cell_type": "markdown",
   "metadata": {},
   "source": [
    "## Question 4:\n",
    "Write a Python program to sum all the numeric items in a list?\n",
    "<br>\n",
    "\n",
    "* ### Method 1 (Using built-in method):"
   ]
  },
  {
   "cell_type": "code",
   "execution_count": 10,
   "metadata": {},
   "outputs": [
    {
     "name": "stdout",
     "output_type": "stream",
     "text": [
      "Sum of list numbers is 336.\n"
     ]
    }
   ],
   "source": [
    "print('Sum of list numbers is {}.'.format(sum(numbers)))"
   ]
  },
  {
   "cell_type": "markdown",
   "metadata": {},
   "source": [
    "* ### Using own method:"
   ]
  },
  {
   "cell_type": "code",
   "execution_count": 15,
   "metadata": {},
   "outputs": [
    {
     "name": "stdout",
     "output_type": "stream",
     "text": [
      "Sum of list numbers is 336.\n"
     ]
    }
   ],
   "source": [
    "total = 0\n",
    "for number in numbers:\n",
    "    total += number\n",
    "print('Sum of list numbers is {}.'.format(total))"
   ]
  },
  {
   "cell_type": "markdown",
   "metadata": {},
   "source": [
    "## Question 5:\n",
    "Write a Python program to get the largest number from a numeric list."
   ]
  },
  {
   "cell_type": "code",
   "execution_count": 13,
   "metadata": {},
   "outputs": [
    {
     "name": "stdout",
     "output_type": "stream",
     "text": [
      "The largest number in list numbers is 99.\n"
     ]
    }
   ],
   "source": [
    "largest = numbers[0]\n",
    "for number in numbers:\n",
    "    if number > largest:\n",
    "        largest = number\n",
    "print('The largest number in list numbers is {}.'.format(largest))"
   ]
  },
  {
   "cell_type": "markdown",
   "metadata": {},
   "source": [
    "## Question 6:\n",
    "Take a list, say for example this one:\n",
    "`a = [1, 1, 2, 3, 5, 8, 13, 21, 34, 55, 89]`\n",
    "and write a program that prints out all the elements of the list that are less than 5."
   ]
  },
  {
   "cell_type": "code",
   "execution_count": 14,
   "metadata": {},
   "outputs": [
    {
     "name": "stdout",
     "output_type": "stream",
     "text": [
      "1\n",
      "1\n",
      "2\n",
      "3\n"
     ]
    }
   ],
   "source": [
    "a = [1, 1, 2, 3, 5, 8, 13, 21, 34, 55, 89]\n",
    "for i in a:\n",
    "    if i < 5:\n",
    "        print(i)"
   ]
  }
 ],
 "metadata": {
  "kernelspec": {
   "display_name": "Python 3",
   "language": "python",
   "name": "python3"
  },
  "language_info": {
   "codemirror_mode": {
    "name": "ipython",
    "version": 3
   },
   "file_extension": ".py",
   "mimetype": "text/x-python",
   "name": "python",
   "nbconvert_exporter": "python",
   "pygments_lexer": "ipython3",
   "version": "3.6.2"
  }
 },
 "nbformat": 4,
 "nbformat_minor": 2
}
