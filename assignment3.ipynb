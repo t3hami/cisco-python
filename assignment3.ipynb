{
 "cells": [
  {
   "cell_type": "markdown",
   "metadata": {},
   "source": [
    "# Assignment # 3\n",
    "<br>\n",
    "\n",
    "## Question 1:\n",
    "Make a calculator using Python with addition, subtraction, multiplication, division and power."
   ]
  },
  {
   "cell_type": "code",
   "execution_count": 1,
   "metadata": {},
   "outputs": [
    {
     "name": "stdout",
     "output_type": "stream",
     "text": [
      "Enter your expression like: 2+45, 3-11, 5*4, 44/3, 3^5 etc (Without spaces)\n",
      "4*8\n",
      "32.0\n"
     ]
    }
   ],
   "source": [
    "operators = ['+', '-', '*', '/', '^']\n",
    "expression = input('Enter your expression like: 2+45, 3-11, 5*4, 44/3, 3^5 etc (Without spaces)\\n')\n",
    "operator = ''\n",
    "for _operator in operators:\n",
    "    if _operator in expression:\n",
    "        operator = _operator\n",
    "if operator != '' and len(expression.split(operator)) == 2:\n",
    "    operand1, operand2 = expression.split(operator)\n",
    "    if operator == '+':\n",
    "        print(float(operand1) + float(operand2))\n",
    "    elif operator == '-':\n",
    "        print(float(operand1) - float(operand2))\n",
    "    elif operator == '*':\n",
    "        print(float(operand1) * float(operand2))\n",
    "    elif operator == '/':\n",
    "        print(float(operand1) / float(operand2))\n",
    "    elif operator == '^':\n",
    "        print(float(operand1) ^ float(operand2))"
   ]
  },
  {
   "cell_type": "markdown",
   "metadata": {},
   "source": [
    "## Question 2:\n",
    "Write a program to check if there is any numeric value in list using for loop."
   ]
  },
  {
   "cell_type": "code",
   "execution_count": 4,
   "metadata": {},
   "outputs": [
    {
     "name": "stdout",
     "output_type": "stream",
     "text": [
      "Yes! there's a numberic value in list.\n"
     ]
    }
   ],
   "source": [
    "my_list = ['A', 'XYZ', 'Ali', 33, 'Z', 'ABCD']\n",
    "is_there = False\n",
    "for i in my_list:\n",
    "    if type(i) == int or type(i) == float:\n",
    "        is_there = True\n",
    "        break\n",
    "print(\"Yes! there's a numberic value in list.\") if is_there else print(\"No! there's no numberic value in list.\")"
   ]
  },
  {
   "cell_type": "markdown",
   "metadata": {},
   "source": [
    "## Question 3:\n",
    "Write a Python script to add a key to a dictionary."
   ]
  },
  {
   "cell_type": "code",
   "execution_count": 7,
   "metadata": {},
   "outputs": [
    {
     "name": "stdout",
     "output_type": "stream",
     "text": [
      "Enter Key: key3\n",
      "Enter value: value3\n",
      "Dictionary: {'key1': 'value1', 'key2': 'value2', 'key3': 'value3'}\n"
     ]
    }
   ],
   "source": [
    "my_dict = {'key1': 'value1', 'key2': 'value2'}\n",
    "key, value = input('Enter Key: '), input('Enter value: ')\n",
    "my_dict[key] = value\n",
    "print('Dictionary:', my_dict)"
   ]
  },
  {
   "cell_type": "markdown",
   "metadata": {},
   "source": [
    "## Question # 4:\n",
    "Write a Python program to sum all the numeric items in a dictionary."
   ]
  },
  {
   "cell_type": "code",
   "execution_count": 12,
   "metadata": {},
   "outputs": [
    {
     "name": "stdout",
     "output_type": "stream",
     "text": [
      "Total = 6\n"
     ]
    }
   ],
   "source": [
    "total = 0\n",
    "dictionary = {'key1': 'value1', 'key2': 2, 'key3': 'value3', 'key4': 4}\n",
    "for value in dictionary.values():\n",
    "    if type(value) == int or type(value) == float:\n",
    "        total += value\n",
    "print('Total =', total)"
   ]
  },
  {
   "cell_type": "markdown",
   "metadata": {},
   "source": [
    "## Question # 5:\n",
    "Write a program to identify duplicate values from list."
   ]
  },
  {
   "cell_type": "code",
   "execution_count": 16,
   "metadata": {},
   "outputs": [
    {
     "name": "stdout",
     "output_type": "stream",
     "text": [
      "Duplicates: ['A', 'B', 'Z']\n"
     ]
    }
   ],
   "source": [
    "my_list = ['A', 'B', 'C', 'A', 'B', 'Z', 'D', 'Z']\n",
    "duplicates = []\n",
    "copied_list = my_list[:]\n",
    "for i in my_list:\n",
    "    copied_list.remove(i)\n",
    "    if i in copied_list:\n",
    "        duplicates.append(i)\n",
    "print('Duplicates:', duplicates)"
   ]
  },
  {
   "cell_type": "markdown",
   "metadata": {},
   "source": [
    "## Question # 6:\n",
    "Write a Python script to check if a given key already exists in a dictionary."
   ]
  },
  {
   "cell_type": "code",
   "execution_count": 20,
   "metadata": {},
   "outputs": [
    {
     "name": "stdout",
     "output_type": "stream",
     "text": [
      "Enter Key: key1\n",
      "Enter value: new\n",
      "key1 already exist in dictionary!\n",
      "Dictionary: {'key1': 'value1', 'key2': 'value2'}\n"
     ]
    }
   ],
   "source": [
    "my_dict = {'key1': 'value1', 'key2': 'value2'}\n",
    "key, value = input('Enter Key: '), input('Enter value: ')\n",
    "if key in my_dict.keys():\n",
    "    print('{} already exist in dictionary!'.format(key))\n",
    "else:\n",
    "    my_dict[key] = value\n",
    "print('Dictionary:', my_dict)"
   ]
  }
 ],
 "metadata": {
  "kernelspec": {
   "display_name": "Python 3",
   "language": "python",
   "name": "python3"
  },
  "language_info": {
   "codemirror_mode": {
    "name": "ipython",
    "version": 3
   },
   "file_extension": ".py",
   "mimetype": "text/x-python",
   "name": "python",
   "nbconvert_exporter": "python",
   "pygments_lexer": "ipython3",
   "version": "3.6.2"
  }
 },
 "nbformat": 4,
 "nbformat_minor": 2
}
